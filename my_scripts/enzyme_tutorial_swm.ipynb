{
 "cells": [
  {
   "cell_type": "markdown",
   "metadata": {},
   "source": [
    "## Adjoint derivatives tutorial: A shallow water model"
   ]
  },
  {
   "cell_type": "markdown",
   "metadata": {},
   "source": [
    "In this tutorial we aim to demonstrate to users how one can use Enzyme + Checkpointing in Julia to compute derivatives of a shallow water model and provide physical interpretations of the computed derivatives. "
   ]
  },
  {
   "cell_type": "markdown",
   "metadata": {},
   "source": [
    "### Model overview"
   ]
  },
  {
   "cell_type": "markdown",
   "metadata": {},
   "source": [
    "The differentiable model we'll examine in this tutorial is a **shallow water model**. This just means we're examining a simplified ocean model: imagine a box of fluid with wind-driven circulation. The equations of motion are given by \n",
    "\\begin{align}\n",
    "        \\frac{\\partial}{\\partial t} u + u \\frac{\\partial}{\\partial x} u + v \\frac{\\partial}{\\partial y} u - fv &= - g \\frac{\\partial}{\\partial x} \\eta + F_x + M_x \\\\\n",
    "        \\frac{\\partial}{\\partial t} v + u \\frac{\\partial}{\\partial x} v + v \\frac{\\partial}{\\partial y} v + fv &= - g \\frac{\\partial}{\\partial y} \\eta + F_y + M_y \\\\\n",
    "        \\frac{\\partial }{\\partial t} \\eta + \\nabla \\cdot (h \\mathbf{u}) &= 0\n",
    "\\end{align}\n",
    "with the model parameters defined as \n",
    "\\begin{align*}\n",
    " &\\text{Variable} &&\\text{Definition} \\\\ \n",
    " \\hline\n",
    " &f = f(y) = f_0 + \\beta y &&\\text{Coriolis function} \\\\\n",
    " &f_0 &&\\text{Coriolis parameter} \\\\\n",
    " &\\beta &&\\text{Rossby parameter} \\\\\n",
    " &g &&\\text{Gravity constant} \\\\\n",
    " &h(t,x,y) = \\eta(t, x, y) + H &&\\text{Surface height} \\\\ \n",
    " &\\mathbf{F} = (F_x, F_y) &&\\text{Wind forcing} \\\\\n",
    " &\\mathbf{M} = (M_x, M_y) &&\\text{Momentum mixing and bottom friction} \n",
    " \\end{align*}"
   ]
  },
  {
   "cell_type": "markdown",
   "metadata": {},
   "source": [
    "#### References:\n",
    "\n",
    "[Klöwer, M., Hatfield, S., Croci, M., Düben, P. D., & Palmer, T. N. (2022). Fluid simulations accelerated with 16 bits: Approaching 4x speedup on A64FX by squeezing ShallowWaters. jl into Float16. Journal of Advances in Modeling Earth Systems, 14(2), e2021MS002684.](https://agupubs.onlinelibrary.wiley.com/doi/full/10.1029/2021MS002684)"
   ]
  },
  {
   "cell_type": "markdown",
   "metadata": {},
   "source": [
    "### Adding necessary Julia packages\n",
    "\n",
    "In order to run the tutorial one needs the following packages:\n",
    "\n",
    "1. ShallowWaters.jl -- this is the package that contains the model code.\n",
    "2. Enzyme.jl -- Enzyme will do the differentiating for us.\n",
    "3. Checkpointing.jl -- because of the nature of adjoint methods, we need to \"checkpoint\" the adjoint problem (i.e. break the backwards run into multiple shorter backwards runs)\n",
    "4. Plots.jl -- for making pretty pictures at the end.\n",
    "\n",
    "It's also recommended that you're on Julia v1.10.0, earlier versions might not work"
   ]
  },
  {
   "cell_type": "code",
   "execution_count": null,
   "metadata": {},
   "outputs": [],
   "source": [
    "using ShallowWaters\n",
    "using Enzyme\n",
    "using Checkpointing\n",
    "using Plots\n",
    "\n",
    "include(\"ShallowWaters.jl\")"
   ]
  }
 ],
 "metadata": {
  "kernelspec": {
   "display_name": "Julia 1.10.0",
   "language": "julia",
   "name": "julia-1.10"
  },
  "language_info": {
   "file_extension": ".jl",
   "mimetype": "application/julia",
   "name": "julia",
   "version": "1.10.0"
  }
 },
 "nbformat": 4,
 "nbformat_minor": 2
}
